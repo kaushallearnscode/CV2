{
 "cells": [
  {
   "cell_type": "code",
   "execution_count": 208,
   "metadata": {},
   "outputs": [],
   "source": [
    "import cv2\n",
    "import numpy"
   ]
  },
  {
   "cell_type": "code",
   "execution_count": 209,
   "metadata": {},
   "outputs": [],
   "source": [
    "photo = numpy.zeros((500,500,3))"
   ]
  },
  {
   "cell_type": "code",
   "execution_count": 210,
   "metadata": {},
   "outputs": [
    {
     "data": {
      "text/plain": [
       "array([[[0., 0., 0.],\n",
       "        [0., 0., 0.],\n",
       "        [0., 0., 0.],\n",
       "        ...,\n",
       "        [0., 0., 0.],\n",
       "        [0., 0., 0.],\n",
       "        [0., 0., 0.]],\n",
       "\n",
       "       [[0., 0., 0.],\n",
       "        [0., 0., 0.],\n",
       "        [0., 0., 0.],\n",
       "        ...,\n",
       "        [0., 0., 0.],\n",
       "        [0., 0., 0.],\n",
       "        [0., 0., 0.]],\n",
       "\n",
       "       [[0., 0., 0.],\n",
       "        [0., 0., 0.],\n",
       "        [0., 0., 0.],\n",
       "        ...,\n",
       "        [0., 0., 0.],\n",
       "        [0., 0., 0.],\n",
       "        [0., 0., 0.]],\n",
       "\n",
       "       ...,\n",
       "\n",
       "       [[0., 0., 0.],\n",
       "        [0., 0., 0.],\n",
       "        [0., 0., 0.],\n",
       "        ...,\n",
       "        [0., 0., 0.],\n",
       "        [0., 0., 0.],\n",
       "        [0., 0., 0.]],\n",
       "\n",
       "       [[0., 0., 0.],\n",
       "        [0., 0., 0.],\n",
       "        [0., 0., 0.],\n",
       "        ...,\n",
       "        [0., 0., 0.],\n",
       "        [0., 0., 0.],\n",
       "        [0., 0., 0.]],\n",
       "\n",
       "       [[0., 0., 0.],\n",
       "        [0., 0., 0.],\n",
       "        [0., 0., 0.],\n",
       "        ...,\n",
       "        [0., 0., 0.],\n",
       "        [0., 0., 0.],\n",
       "        [0., 0., 0.]]])"
      ]
     },
     "execution_count": 210,
     "metadata": {},
     "output_type": "execute_result"
    }
   ],
   "source": [
    "photo"
   ]
  },
  {
   "cell_type": "code",
   "execution_count": 211,
   "metadata": {},
   "outputs": [
    {
     "data": {
      "text/plain": [
       "(500, 500, 3)"
      ]
     },
     "execution_count": 211,
     "metadata": {},
     "output_type": "execute_result"
    }
   ],
   "source": [
    "photo.shape"
   ]
  },
  {
   "cell_type": "code",
   "execution_count": 212,
   "metadata": {},
   "outputs": [],
   "source": [
    "while True:\n",
    "    photo = cv2.rectangle(photo,(0,5), (40,495),(0,0,255), -1)\n",
    "    cv2.imshow(\"bg\", photo)\n",
    "    if cv2.waitKey(500) == 13:\n",
    "        break\n",
    "    photo = cv2.rectangle(photo,(45,5), (90,495),(0,0,255), 2)\n",
    "    cv2.imshow(\"bg\", photo)\n",
    "    if cv2.waitKey(500) == 13:\n",
    "        break\n",
    "    photo = cv2.rectangle(photo,(95,5), (140,495),(0,50,50), -1)\n",
    "    cv2.imshow(\"bg\", photo)\n",
    "    if cv2.waitKey(500) == 13:\n",
    "        break\n",
    "    photo = cv2.rectangle(photo,(145,5), (190,495),(0,50,50), 2)\n",
    "    cv2.imshow(\"bg\", photo)\n",
    "    if cv2.waitKey(500) == 13:\n",
    "        break\n",
    "    photo = cv2.rectangle(photo,(195,5), (240,495),(0,100,0), -1)\n",
    "    cv2.imshow(\"bg\", photo)\n",
    "    if cv2.waitKey(500) == 13:\n",
    "        break\n",
    "    photo = cv2.rectangle(photo,(245,5), (290,495),(0,100,0), 2)\n",
    "    cv2.imshow(\"bg\", photo)\n",
    "    if cv2.waitKey(500) == 13:\n",
    "        break\n",
    "    photo = cv2.rectangle(photo,(295,5), (340,495),(255,255,0), -1)\n",
    "    cv2.imshow(\"bg\", photo)\n",
    "    if cv2.waitKey(500) == 13:\n",
    "        break\n",
    "    photo = cv2.rectangle(photo,(345,5), (390,495),(255,255,0), 2)\n",
    "    cv2.imshow(\"bg\", photo)\n",
    "    if cv2.waitKey(500) == 13:\n",
    "        break\n",
    "    photo = cv2.rectangle(photo,(395,5), (440,495),(255,0,0), -1)\n",
    "    cv2.imshow(\"bg\", photo)\n",
    "    if cv2.waitKey(500) == 13:\n",
    "        break\n",
    "    photo = cv2.rectangle(photo,(445,5), (495,495),(255,0,0), 2)\n",
    "    cv2.imshow(\"bg\", photo)\n",
    "    if cv2.waitKey(500) == 13:\n",
    "        break\n",
    "cv2.destroyAllWindows()"
   ]
  },
  {
   "cell_type": "code",
   "execution_count": null,
   "metadata": {},
   "outputs": [],
   "source": []
  }
 ],
 "metadata": {
  "kernelspec": {
   "display_name": "Python 3",
   "language": "python",
   "name": "python3"
  },
  "language_info": {
   "codemirror_mode": {
    "name": "ipython",
    "version": 3
   },
   "file_extension": ".py",
   "mimetype": "text/x-python",
   "name": "python",
   "nbconvert_exporter": "python",
   "pygments_lexer": "ipython3",
   "version": "3.8.8"
  }
 },
 "nbformat": 4,
 "nbformat_minor": 4
}
